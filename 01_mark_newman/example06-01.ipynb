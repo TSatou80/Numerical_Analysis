{
 "cells": [
  {
   "cell_type": "code",
   "execution_count": 2,
   "metadata": {},
   "outputs": [],
   "source": [
    "from numpy import array, empty"
   ]
  },
  {
   "cell_type": "code",
   "execution_count": 11,
   "metadata": {},
   "outputs": [
    {
     "name": "stdout",
     "output_type": "stream",
     "text": [
      "[ 2. -1. -2.  1.]\n"
     ]
    }
   ],
   "source": [
    "A = array([[2,1,4,1],\n",
    "           [3,4,-1,-1],\n",
    "           [1,-4,1,5],\n",
    "           [2,-2,1,3]], float)\n",
    "v = array([-4,3,9,7],float)\n",
    "N = len(v)\n",
    "\n",
    "for m in range(N):\n",
    "    div = A[m,m]\n",
    "    A[m,:] /= div\n",
    "    v[m] /= div\n",
    "    \n",
    "    for i in range(m+1,N):\n",
    "        mult = A[i,m]\n",
    "        A[i,:] -= mult*A[m,:]\n",
    "        v[i] -= mult*v[m]\n",
    "    \n",
    "x = empty(N, float)\n",
    "for m in range(N-1, -1, -1):  #m 3 -> 2 -> 1 -> 0\n",
    "    x[m] = v[m]\n",
    "    for i in range(m+1, N):   #i m+1 -> m+2 -> ... -> N-1(3)\n",
    "        x[m] -= A[m,i]*x[i]\n",
    "print(x)"
   ]
  }
 ],
 "metadata": {
  "kernelspec": {
   "display_name": "Python 3",
   "language": "python",
   "name": "python3"
  },
  "language_info": {
   "codemirror_mode": {
    "name": "ipython",
    "version": 3
   },
   "file_extension": ".py",
   "mimetype": "text/x-python",
   "name": "python",
   "nbconvert_exporter": "python",
   "pygments_lexer": "ipython3",
   "version": "3.7.4"
  }
 },
 "nbformat": 4,
 "nbformat_minor": 2
}
