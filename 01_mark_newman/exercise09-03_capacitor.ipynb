{
 "cells": [
  {
   "cell_type": "code",
   "execution_count": 2,
   "metadata": {},
   "outputs": [],
   "source": [
    "from numpy import empty, zeros, max, ones\n",
    "from pylab import imshow, gray, show\n",
    "omega = 0.9\n",
    "M = 100\n",
    "V = 1.0\n",
    "target = 1e-6\n",
    "\n",
    "#create arrays to hold potential values\n",
    "phi = zeros([M+1,M+1],float)\n",
    "\n",
    "for i in range(20,80):\n",
    "    for j in range(20,21):\n",
    "        phi[i,j] = 1\n",
    "        \n",
    "for i in range(20,80):\n",
    "    for j in range(80,81):\n",
    "        phi[i,j] = -1        \n",
    "\n",
    "phiprime = empty([M+1,M+1],float)\n",
    "\n",
    "#main loop\n",
    "delta = 1.0\n",
    "while delta > target:\n",
    "    #calculate new values of the potential\n",
    "    for i in range(M+1):\n",
    "        for j in range(M+1):\n",
    "            if i==0 or i==M or j==0 or j==M:\n",
    "                phiprime[i,j] = phi[i,j]\n",
    "            elif i >= 20 and i < 80 and j >= 20 and j < 21:\n",
    "                phiprime[i,j] =  1/4\n",
    "            elif i >= 20 and i < 80 and j >= 80 and j < 81:\n",
    "                phiprime[i,j] =  -1/4\n",
    "            else:\n",
    "                phiprime[i,j] = (1+omega)*(phi[i+1,j] + phi[i-1,j] + phi[i,j+1] + phi[i,j-1])/4 - omega*phiprime[i,j]\n",
    "    \n",
    "    #calculate maximum difference from old values\n",
    "    delta = max(abs(phi - phiprime))\n",
    "    \n",
    "    #swap the two arrays around\n",
    "    phi, phiprime = phiprime, phi\n",
    "#     print(phiprime[50,50])\n",
    "        \n",
    "imshow(phi)\n",
    "gray()\n",
    "show()"
   ]
  },
  {
   "cell_type": "code",
   "execution_count": null,
   "metadata": {
    "collapsed": true
   },
   "outputs": [],
   "source": []
  }
 ],
 "metadata": {
  "kernelspec": {
   "display_name": "Python 3",
   "language": "python",
   "name": "python3"
  },
  "language_info": {
   "codemirror_mode": {
    "name": "ipython",
    "version": 3
   },
   "file_extension": ".py",
   "mimetype": "text/x-python",
   "name": "python",
   "nbconvert_exporter": "python",
   "pygments_lexer": "ipython3",
   "version": "3.7.4"
  }
 },
 "nbformat": 4,
 "nbformat_minor": 2
}
