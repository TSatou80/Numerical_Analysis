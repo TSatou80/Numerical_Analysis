{
 "cells": [
  {
   "cell_type": "code",
   "execution_count": 80,
   "metadata": {},
   "outputs": [],
   "source": [
    "from numpy import zeros\n",
    "from cmath import exp,pi\n",
    "import numpy as np\n",
    "from math import sin\n",
    "from pylab import plot,bar,xlim\n",
    "\n",
    "\n",
    "def dft(y):\n",
    "    N = len(y)\n",
    "    c = zeros(N//2 + 1, complex)\n",
    "    for k in range(N//2 + 1):\n",
    "        for n in range(N):\n",
    "            c[k] += y[n] * exp(-2j*pi*k*n/N)\n",
    "    return c"
   ]
  },
  {
   "cell_type": "code",
   "execution_count": 81,
   "metadata": {},
   "outputs": [
    {
     "data": {
      "text/plain": [
       "[<matplotlib.lines.Line2D at 0x7f10e6e21c10>]"
      ]
     },
     "execution_count": 81,
     "metadata": {},
     "output_type": "execute_result"
    },
    {
     "data": {
      "image/png": "[encoded data removed]",
      "text/plain": [
       "<Figure size 432x288 with 1 Axes>"
      ]
     },
     "metadata": {
      "needs_background": "light"
     },
     "output_type": "display_data"
    }
   ],
   "source": [
    "number = 1000\n",
    "data = np.empty(number)\n",
    "\n",
    "for i in range(number):\n",
    "    data[i] = sin(2*pi*i/number)\n",
    "\n",
    "xlim(-10,500)\n",
    "\n",
    "plot(abs(dft(data))) \n",
    "#すべての要素（500個？）が、１のところにあるという意味のグラフ"
   ]
  },
  {
   "cell_type": "code",
   "execution_count": null,
   "metadata": {},
   "outputs": [],
   "source": []
  }
 ],
 "metadata": {
  "kernelspec": {
   "display_name": "Python 3",
   "language": "python",
   "name": "python3"
  },
  "language_info": {
   "codemirror_mode": {
    "name": "ipython",
    "version": 3
   },
   "file_extension": ".py",
   "mimetype": "text/x-python",
   "name": "python",
   "nbconvert_exporter": "python",
   "pygments_lexer": "ipython3",
   "version": "3.7.4"
  }
 },
 "nbformat": 4,
 "nbformat_minor": 2
}
