{
 "cells": [
  {
   "cell_type": "markdown",
   "metadata": {},
   "source": [
    "# example 9.1 Solution of Laplace's Equation\n",
    "![formula](./image/0901_01.png)"
   ]
  },
  {
   "cell_type": "code",
   "execution_count": 1,
   "metadata": {},
   "outputs": [],
   "source": [
    "from numpy import empty, zeros, max, min, ones, random, array\n",
    "from pylab import imshow, gray, show, grid"
   ]
  },
  {
   "cell_type": "code",
   "execution_count": 3,
   "metadata": {},
   "outputs": [],
   "source": [
    "M = 100 #grid squares on a side\n",
    "V = 1.0 #voltage at top wall\n",
    "target = 1e-3"
   ]
  },
  {
   "cell_type": "code",
   "execution_count": 4,
   "metadata": {
    "scrolled": true
   },
   "outputs": [
    {
     "name": "stdout",
     "output_type": "stream",
     "text": [
      "2478843\n"
     ]
    },
    {
     "data": {
      "image/png": "[encoded data removed]",
      "text/plain": [
       "<Figure size 432x288 with 1 Axes>"
      ]
     },
     "metadata": {
      "needs_background": "light"
     },
     "output_type": "display_data"
    }
   ],
   "source": [
    "#create arrays to hold potential values\n",
    "phi = zeros([M+1,M+1],float)\n",
    "phi[0,:] = V\n",
    "phiprime = empty([M+1,M+1],float)\n",
    "count = 0\n",
    "\n",
    "#main loop\n",
    "delta = 1.0\n",
    "while delta > target:\n",
    "    #calculate new values of the potential\n",
    "    for i in range(M+1):\n",
    "        for j in range(M+1):\n",
    "            count += 1\n",
    "            if i==0 or i==M or j==0 or j==M:\n",
    "                phiprime[i,j] = phi[i,j]\n",
    "            else:\n",
    "                phiprime[i,j] = (phi[i+1,j] + phi[i-1,j] + phi[i,j+1] + phi[i,j-1])/4\n",
    "    \n",
    "    #calculate maximum difference from old values(comparing all points)\n",
    "    delta = max(abs(phi - phiprime))\n",
    "    \n",
    "    #swap the two arrays around\n",
    "    phi, phiprime = phiprime, phi\n",
    "    \n",
    "print(count)\n",
    "grid()\n",
    "imshow(phi)\n",
    "gray()\n",
    "show()"
   ]
  },
  {
   "cell_type": "code",
   "execution_count": 6,
   "metadata": {},
   "outputs": [
    {
     "data": {
      "text/plain": [
       "(101, 101)"
      ]
     },
     "execution_count": 6,
     "metadata": {},
     "output_type": "execute_result"
    }
   ],
   "source": [
    "phi.shape"
   ]
  }
 ],
 "metadata": {
  "kernelspec": {
   "display_name": "Python 3 (ipykernel)",
   "language": "python",
   "name": "python3"
  },
  "language_info": {
   "codemirror_mode": {
    "name": "ipython",
    "version": 3
   },
   "file_extension": ".py",
   "mimetype": "text/x-python",
   "name": "python",
   "nbconvert_exporter": "python",
   "pygments_lexer": "ipython3",
   "version": "3.8.11"
  }
 },
 "nbformat": 4,
 "nbformat_minor": 2
}
