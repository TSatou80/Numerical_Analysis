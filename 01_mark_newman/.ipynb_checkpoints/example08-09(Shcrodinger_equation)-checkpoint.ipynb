{
 "cells": [
  {
   "cell_type": "markdown",
   "metadata": {},
   "source": [
    "# 8.6.3 Eigenvalue problems"
   ]
  },
  {
   "cell_type": "markdown",
   "metadata": {},
   "source": [
    "### シュレディンガー方程式の解\n",
    "![formula](./image/0863.png)\n",
    "![formula](./image/0863_01.png)\n",
    "![formula](./image/0863_02.png)\n",
    "- 初期条件を与え、境界での値をルンゲクッタ法により微分方程式により求める。\n",
    "- secant methodにより、解を求める。"
   ]
  },
  {
   "cell_type": "code",
   "execution_count": 1,
   "metadata": {},
   "outputs": [],
   "source": [
    "from numpy import array,arange\n",
    "from math import sin, cos\n",
    "from numpy import array,arange, pi\n",
    "from pylab import plot, xlabel, show, grid"
   ]
  },
  {
   "cell_type": "code",
   "execution_count": 2,
   "metadata": {},
   "outputs": [],
   "source": [
    "m = 9.1094e-31\n",
    "hbar = 1.0546e-34\n",
    "e = 1.6022e-19\n",
    "L = 5.2918e-11\n",
    "N = 1000\n",
    "h = L/N\n",
    "V0 = 100*e\n"
   ]
  },
  {
   "cell_type": "code",
   "execution_count": 3,
   "metadata": {},
   "outputs": [],
   "source": [
    "def V(x):    \n",
    "    return V0*(x/L)*(x/L-1) \n",
    "\n",
    "# def V(x):\n",
    "#     return 0.0\n",
    "\n",
    "\n",
    "def f(r,x,E):\n",
    "    psi = r[0]\n",
    "    phi = r[1]\n",
    "    fpsi = phi\n",
    "    fphi = (2*m/hbar**2)*(V(x) - E)*psi\n",
    "    return array([fpsi, fphi], float)"
   ]
  },
  {
   "cell_type": "code",
   "execution_count": 4,
   "metadata": {},
   "outputs": [],
   "source": [
    "def solve(E):\n",
    "    psi = 0.0\n",
    "    phi = 1.0\n",
    "    r = array([psi,phi],float)\n",
    "    \n",
    "    for x in arange(0,L,h):\n",
    "        k1 = h*f(r,x,E)\n",
    "        k2 = h*f(r+0.5*k1, x+0.5*h, E)\n",
    "        k3 = h*f(r+0.5*k2, x+0.5*h, E)\n",
    "        k4 = h*f(r+k3, x+h, E)\n",
    "        r += (k1 + 2*k2 + 2*k3 + k4)/6\n",
    "#     print(r[0],r[1]) \n",
    "    \n",
    "    return r[0]\n"
   ]
  },
  {
   "cell_type": "code",
   "execution_count": 5,
   "metadata": {
    "scrolled": true
   },
   "outputs": [
    {
     "name": "stdout",
     "output_type": "stream",
     "text": [
      "E= 519.1995059854486 eV\n"
     ]
    }
   ],
   "source": [
    "E1 = 0.0\n",
    "E2 = 500*e\n",
    "psi2 = solve(E1)\n",
    "target = e/1000\n",
    "while abs(E1 - E2) > target:\n",
    "    psi1, psi2 = psi2, solve(E2)\n",
    "    E1, E2 = E2,E2 - psi2*(E2 - E1)/(psi2 - psi1)\n",
    "#     print(E2/e)\n",
    "    \n",
    "print(\"E=\", E2/e, \"eV\")"
   ]
  },
  {
   "cell_type": "markdown",
   "metadata": {},
   "source": [
    "### 特定エネルギーでの波動関数のグラフ（横軸：E、縦軸：ψ）\n",
    "- Eの値を変えるとグラフの形がかわる。"
   ]
  },
  {
   "cell_type": "code",
   "execution_count": 6,
   "metadata": {
    "scrolled": true
   },
   "outputs": [
    {
     "data": {
      "text/plain": [
       "[<matplotlib.lines.Line2D at 0x7f03d90bc520>]"
      ]
     },
     "execution_count": 6,
     "metadata": {},
     "output_type": "execute_result"
    },
    {
     "data": {
      "image/png": "[encoded data removed]",
      "text/plain": [
       "<Figure size 432x288 with 1 Axes>"
      ]
     },
     "metadata": {
      "needs_background": "light"
     },
     "output_type": "display_data"
    }
   ],
   "source": [
    "E = 519*e\n",
    "\n",
    "psi = 0.0\n",
    "phi = 1.0\n",
    "\n",
    "tpoints = arange(0,L,h)\n",
    "xpoints = []\n",
    "\n",
    "r = array([psi,phi],float)\n",
    "for x in arange(0,L,h):\n",
    "    k1 = h*f(r,x,E)\n",
    "    k2 = h*f(r+0.5*k1, x+0.5*h, E)\n",
    "    k3 = h*f(r+0.5*k2, x+0.5*h, E)\n",
    "    k4 = h*f(r+k3, x+h, E)\n",
    "    r += (k1 + 2*k2 + 2*k3 + k4)/6\n",
    "    xpoints.append(r[0])\n",
    "\n",
    "grid()\n",
    "plot(tpoints, xpoints)\n"
   ]
  },
  {
   "cell_type": "markdown",
   "metadata": {},
   "source": [
    "### エネルギーと波動関数のグラフ\n",
    "- エネルギーを0から600eVまで変化させたときの、x=L（境界）での波動関数の値（規格化はしていない）の値をグラフ化したもの。横軸がE、縦軸が波動関数\n",
    "- 縦軸が0になっているところでのエネルギーが固有値\n",
    "- グラフからも、134eV付近に解があることがわかる。（V0 = 0の場合）\n",
    "- 540eVあたりにも解があることがわかる。（V0 = 0の場合）"
   ]
  },
  {
   "cell_type": "code",
   "execution_count": 155,
   "metadata": {
    "scrolled": true
   },
   "outputs": [
    {
     "data": {
      "text/plain": [
       "[<matplotlib.lines.Line2D at 0x7fe69d265dc0>]"
      ]
     },
     "execution_count": 155,
     "metadata": {},
     "output_type": "execute_result"
    },
    {
     "data": {
      "image/png": "[encoded data removed]",
      "text/plain": [
       "<Figure size 432x288 with 1 Axes>"
      ]
     },
     "metadata": {
      "needs_background": "light"
     },
     "output_type": "display_data"
    }
   ],
   "source": [
    "x = arange(0, 100, 1)\n",
    "\n",
    "y = []\n",
    "for t in x:\n",
    "    y.append(solve(t*e))\n",
    "\n",
    "grid()\n",
    "plot(x,y)"
   ]
  },
  {
   "cell_type": "code",
   "execution_count": null,
   "metadata": {},
   "outputs": [],
   "source": []
  }
 ],
 "metadata": {
  "kernelspec": {
   "display_name": "Python 3 (ipykernel)",
   "language": "python",
   "name": "python3"
  },
  "language_info": {
   "codemirror_mode": {
    "name": "ipython",
    "version": 3
   },
   "file_extension": ".py",
   "mimetype": "text/x-python",
   "name": "python",
   "nbconvert_exporter": "python",
   "pygments_lexer": "ipython3",
   "version": "3.8.11"
  }
 },
 "nbformat": 4,
 "nbformat_minor": 2
}
