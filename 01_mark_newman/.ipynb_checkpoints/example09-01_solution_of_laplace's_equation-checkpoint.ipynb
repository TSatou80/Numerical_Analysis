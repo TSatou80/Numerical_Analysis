{
 "cells": [
  {
   "cell_type": "markdown",
   "metadata": {},
   "source": [
    "# example 9.1 Solution of Laplace's Equation\n",
    "![formula](./image/0901_01.png)"
   ]
  },
  {
   "cell_type": "code",
   "execution_count": 44,
   "metadata": {},
   "outputs": [],
   "source": [
    "from numpy import empty, zeros, max, min, ones, random, array\n",
    "from pylab import imshow, gray, show"
   ]
  },
  {
   "cell_type": "code",
   "execution_count": 45,
   "metadata": {},
   "outputs": [],
   "source": [
    "M = 100 #grid squares on a side\n",
    "V = 1.0 #voltage at top wall\n",
    "target = 1e-6"
   ]
  },
  {
   "cell_type": "code",
   "execution_count": null,
   "metadata": {
    "scrolled": true
   },
   "outputs": [],
   "source": [
    "#create arrays to hold potential values\n",
    "phi = zeros([M+1,M+1],float)\n",
    "phi[0,:] = V\n",
    "phiprime = empty([M+1,M+1],float)\n",
    "\n",
    "#main loop\n",
    "delta = 1.0\n",
    "while delta > target:\n",
    "    #calculate new values of the potential\n",
    "    for i in range(M+1):\n",
    "        for j in range(M+1):\n",
    "            if i==0 or i==M or j==0 or j==M:\n",
    "                phiprime[i,j] = phi[i,j]\n",
    "            else:\n",
    "                phiprime[i,j] = (phi[i+1,j] + phi[i-1,j] + phi[i,j+1] + phi[i,j-1])/4\n",
    "    \n",
    "    #calculate maximum difference from old values(comparing all points)\n",
    "    delta = max(abs(phi - phiprime))\n",
    "    \n",
    "    #swap the two arrays around\n",
    "    phi, phiprime = phiprime, phi\n",
    "    \n",
    "        \n",
    "imshow(phi)\n",
    "gray()\n",
    "show()"
   ]
  },
  {
   "cell_type": "code",
   "execution_count": 35,
   "metadata": {},
   "outputs": [],
   "source": [
    "a = random.rand(2,2)\n",
    "b = random.rand(2,2)"
   ]
  },
  {
   "cell_type": "code",
   "execution_count": 39,
   "metadata": {},
   "outputs": [
    {
     "data": {
      "text/plain": [
       "array([[0.12140189, 0.48371705],\n",
       "       [0.5127085 , 0.40388497]])"
      ]
     },
     "execution_count": 39,
     "metadata": {},
     "output_type": "execute_result"
    }
   ],
   "source": [
    "a"
   ]
  },
  {
   "cell_type": "code",
   "execution_count": 40,
   "metadata": {},
   "outputs": [
    {
     "data": {
      "text/plain": [
       "array([[0.68185067, 0.17486386],\n",
       "       [0.7449416 , 0.38929715]])"
      ]
     },
     "execution_count": 40,
     "metadata": {},
     "output_type": "execute_result"
    }
   ],
   "source": [
    "b"
   ]
  },
  {
   "cell_type": "code",
   "execution_count": 41,
   "metadata": {},
   "outputs": [
    {
     "data": {
      "text/plain": [
       "0.5604487777457476"
      ]
     },
     "execution_count": 41,
     "metadata": {},
     "output_type": "execute_result"
    }
   ],
   "source": [
    "max(abs(a-b))"
   ]
  },
  {
   "cell_type": "code",
   "execution_count": 42,
   "metadata": {},
   "outputs": [
    {
     "data": {
      "text/plain": [
       "array([[0.56044878, 0.30885318],\n",
       "       [0.23223311, 0.01458782]])"
      ]
     },
     "execution_count": 42,
     "metadata": {},
     "output_type": "execute_result"
    }
   ],
   "source": [
    "abs(a-b)"
   ]
  },
  {
   "cell_type": "code",
   "execution_count": null,
   "metadata": {},
   "outputs": [],
   "source": []
  }
 ],
 "metadata": {
  "kernelspec": {
   "display_name": "Python 3 (ipykernel)",
   "language": "python",
   "name": "python3"
  },
  "language_info": {
   "codemirror_mode": {
    "name": "ipython",
    "version": 3
   },
   "file_extension": ".py",
   "mimetype": "text/x-python",
   "name": "python",
   "nbconvert_exporter": "python",
   "pygments_lexer": "ipython3",
   "version": "3.8.11"
  }
 },
 "nbformat": 4,
 "nbformat_minor": 2
}
