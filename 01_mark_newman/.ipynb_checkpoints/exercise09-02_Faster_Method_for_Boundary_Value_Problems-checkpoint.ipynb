{
 "cells": [
  {
   "cell_type": "markdown",
   "id": "6fe7c9de",
   "metadata": {},
   "source": [
    "# Exercise 9.2 Faster Method\n",
    "![formula3](./image/0902_03.png)"
   ]
  },
  {
   "cell_type": "code",
   "execution_count": 10,
   "id": "5fbf0631",
   "metadata": {},
   "outputs": [],
   "source": [
    "from numpy import empty, zeros, max, min, ones, random, array, cosh\n",
    "from pylab import imshow, gray, show, grid"
   ]
  },
  {
   "cell_type": "code",
   "execution_count": 11,
   "id": "3c215197",
   "metadata": {},
   "outputs": [],
   "source": [
    "M = 100 #grid squares on a side\n",
    "V = 1.0 #voltage at top wall\n",
    "target = 1e-6"
   ]
  },
  {
   "cell_type": "markdown",
   "id": "ec4144fb",
   "metadata": {},
   "source": [
    "- omegaを0.9前後にするとうまくいくらしいが、overflowがおきてしまう。本にかかれている式から少し改良はしたが、それでもerrorがでる。overflow doble scalar\n",
    "- （追記）なぜかエラーがでなくなった。不思議。"
   ]
  },
  {
   "cell_type": "code",
   "execution_count": 12,
   "id": "b9cd6cd2",
   "metadata": {},
   "outputs": [
    {
     "data": {
      "image/png": "[encoded data removed]",
      "text/plain": [
       "<Figure size 432x288 with 1 Axes>"
      ]
     },
     "metadata": {
      "needs_background": "light"
     },
     "output_type": "display_data"
    }
   ],
   "source": [
    "#create arrays to hold potential values\n",
    "phi = zeros([M+1,M+1],float)\n",
    "phi[0,:] = V\n",
    "phiprime = empty([M+1,M+1],float)\n",
    "omega = 0.9\n",
    "difference = []\n",
    "\n",
    "#main loop\n",
    "delta = 1.0\n",
    "while delta > target:\n",
    "    #calculate new values of the potential\n",
    "    for i in range(M+1):\n",
    "        for j in range(M+1):\n",
    "            if i==0 or i==M or j==0 or j==M:\n",
    "                phiprime[i,j] = phi[i,j]\n",
    "            else:\n",
    "#                 difference = (phi[i+1,j] + phi[i-1,j] + phi[i,j+1] + phi[i,j-1])/4 - phi[i,j]\n",
    "#                 phiprime[i,j] = phi[i,j] + (1+omega)*difference\n",
    "                phiprime[i,j] = (1+omega)*(phi[i+1,j] + phi[i-1,j] + phi[i,j+1] + phi[i,j-1])/4 - omega*phiprime[i,j]\n",
    "    #calculate maximum difference from old values(comparing all points)\n",
    "    delta = max(abs(phi - phiprime))\n",
    "    \n",
    "    #swap the two arrays around\n",
    "    phi, phiprime = phiprime, phi\n",
    "    \n",
    "grid()\n",
    "imshow(phi)\n",
    "gray()\n",
    "show()"
   ]
  },
  {
   "cell_type": "code",
   "execution_count": null,
   "id": "87bb0d4a",
   "metadata": {},
   "outputs": [],
   "source": []
  }
 ],
 "metadata": {
  "kernelspec": {
   "display_name": "Python 3 (ipykernel)",
   "language": "python",
   "name": "python3"
  },
  "language_info": {
   "codemirror_mode": {
    "name": "ipython",
    "version": 3
   },
   "file_extension": ".py",
   "mimetype": "text/x-python",
   "name": "python",
   "nbconvert_exporter": "python",
   "pygments_lexer": "ipython3",
   "version": "3.8.11"
  }
 },
 "nbformat": 4,
 "nbformat_minor": 5
}
