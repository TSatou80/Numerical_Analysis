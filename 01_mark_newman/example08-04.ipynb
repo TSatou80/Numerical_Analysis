{
 "cells": [
  {
   "cell_type": "code",
   "execution_count": 1,
   "metadata": {},
   "outputs": [],
   "source": [
    "from numpy import arange\n",
    "from pylab import plot, xlabel, ylabel, xlim, show"
   ]
  },
  {
   "cell_type": "code",
   "execution_count": 2,
   "metadata": {},
   "outputs": [],
   "source": [
    "def g(x,u):\n",
    "    return 1/(x**2*(1-u)**2 + u**2)"
   ]
  },
  {
   "cell_type": "code",
   "execution_count": 21,
   "metadata": {},
   "outputs": [
    {
     "data": {
      "text/plain": [
       "(0, 80)"
      ]
     },
     "execution_count": 21,
     "metadata": {},
     "output_type": "execute_result"
    },
    {
     "data": {
      "image/png": "[encoded data removed]",
      "text/plain": [
       "<Figure size 432x288 with 1 Axes>"
      ]
     },
     "metadata": {
      "needs_background": "light"
     },
     "output_type": "display_data"
    }
   ],
   "source": [
    "a = 0.0\n",
    "b = 1.0\n",
    "N = 100\n",
    "h = (b-a)/N\n",
    "\n",
    "upoints = arange(a,b,h)\n",
    "tpoints = []\n",
    "xpoints = []\n",
    "\n",
    "x = 1.0\n",
    "for u in upoints:\n",
    "    tpoints.append(u/(1-u))\n",
    "    k1 = h*g(x,u)\n",
    "    k2 = h*g(x+0.5*k1,u+0.5*h)\n",
    "    k3 = h*g(x+0.5*k2,u+0.5*h)\n",
    "    k4 = h*g(x+k3,u+h)\n",
    "    x += (k1+2*k2+2*k3+k4)/6\n",
    "    xpoints.append(x)\n",
    "\n",
    "plot(tpoints, xpoints)\n",
    "xlim(0,80)"
   ]
  },
  {
   "cell_type": "code",
   "execution_count": 19,
   "metadata": {},
   "outputs": [
    {
     "data": {
      "text/plain": [
       "1000"
      ]
     },
     "execution_count": 19,
     "metadata": {},
     "output_type": "execute_result"
    }
   ],
   "source": [
    "len(xpoints)"
   ]
  },
  {
   "cell_type": "code",
   "execution_count": null,
   "metadata": {},
   "outputs": [],
   "source": []
  }
 ],
 "metadata": {
  "kernelspec": {
   "display_name": "Python 3",
   "language": "python",
   "name": "python3"
  },
  "language_info": {
   "codemirror_mode": {
    "name": "ipython",
    "version": 3
   },
   "file_extension": ".py",
   "mimetype": "text/x-python",
   "name": "python",
   "nbconvert_exporter": "python",
   "pygments_lexer": "ipython3",
   "version": "3.7.4"
  }
 },
 "nbformat": 4,
 "nbformat_minor": 2
}
