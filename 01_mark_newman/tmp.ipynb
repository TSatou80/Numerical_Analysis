{
 "cells": [
  {
   "cell_type": "code",
   "execution_count": 77,
   "id": "02e0cbeb",
   "metadata": {},
   "outputs": [],
   "source": [
    "import numpy as np"
   ]
  },
  {
   "cell_type": "code",
   "execution_count": 78,
   "id": "08a1873a",
   "metadata": {},
   "outputs": [],
   "source": [
    "mat = np.matrix([[0,1,2],[3,4,5]])"
   ]
  },
  {
   "cell_type": "code",
   "execution_count": 79,
   "id": "b3c0a5c7",
   "metadata": {},
   "outputs": [
    {
     "data": {
      "text/plain": [
       "0.8817866345373799"
      ]
     },
     "execution_count": 79,
     "metadata": {},
     "output_type": "execute_result"
    }
   ],
   "source": [
    "np.random.rand()"
   ]
  },
  {
   "cell_type": "code",
   "execution_count": 80,
   "id": "36372b5b",
   "metadata": {},
   "outputs": [],
   "source": [
    "x = np.random.rand(3)"
   ]
  },
  {
   "cell_type": "code",
   "execution_count": 81,
   "id": "74a5cc39",
   "metadata": {},
   "outputs": [],
   "source": [
    "y = np.random.rand(3)"
   ]
  },
  {
   "cell_type": "code",
   "execution_count": 82,
   "id": "ed70f56c",
   "metadata": {},
   "outputs": [],
   "source": [
    "xx = np.array([1,2,3])"
   ]
  },
  {
   "cell_type": "code",
   "execution_count": 83,
   "id": "cfc5f417",
   "metadata": {},
   "outputs": [],
   "source": [
    "yy = np.array([1,2,3])"
   ]
  },
  {
   "cell_type": "code",
   "execution_count": 84,
   "id": "79c1d91d",
   "metadata": {},
   "outputs": [],
   "source": [
    "matt1 = np.matrix([xx,])"
   ]
  },
  {
   "cell_type": "code",
   "execution_count": 85,
   "id": "c23378eb",
   "metadata": {},
   "outputs": [],
   "source": [
    "matt2 = np.matrix([yy,])"
   ]
  },
  {
   "cell_type": "code",
   "execution_count": 86,
   "id": "fee3b4cd",
   "metadata": {},
   "outputs": [
    {
     "data": {
      "text/plain": [
       "matrix([[1, 2, 3],\n",
       "        [2, 4, 6],\n",
       "        [3, 6, 9]])"
      ]
     },
     "execution_count": 86,
     "metadata": {},
     "output_type": "execute_result"
    }
   ],
   "source": [
    "matt1.T * matt2"
   ]
  },
  {
   "cell_type": "code",
   "execution_count": 89,
   "id": "01666f84",
   "metadata": {},
   "outputs": [
    {
     "data": {
      "text/plain": [
       "(3,)"
      ]
     },
     "execution_count": 89,
     "metadata": {},
     "output_type": "execute_result"
    }
   ],
   "source": [
    "xx.shape"
   ]
  },
  {
   "cell_type": "code",
   "execution_count": 102,
   "id": "61e21ca1",
   "metadata": {},
   "outputs": [],
   "source": [
    "tt = np.array([1,2,3])\n",
    "xx = np.matrix([tt,])\n",
    "xx\n",
    "for i in range(len(tt)-1):\n",
    "    xx = np.insert(tt,tt.shape[0],tt,axis=0)\n",
    "\n",
    "\n"
   ]
  },
  {
   "cell_type": "code",
   "execution_count": 103,
   "id": "191d9770",
   "metadata": {},
   "outputs": [
    {
     "data": {
      "text/plain": [
       "array([[1, 2],\n",
       "       [3, 1],\n",
       "       [2, 3]])"
      ]
     },
     "execution_count": 103,
     "metadata": {},
     "output_type": "execute_result"
    }
   ],
   "source": [
    "xx.reshape(3,2)"
   ]
  },
  {
   "cell_type": "code",
   "execution_count": 105,
   "id": "dc3e9eb1",
   "metadata": {},
   "outputs": [
    {
     "data": {
      "text/plain": [
       "array([[1, 2, 3, 1, 2, 3]])"
      ]
     },
     "execution_count": 105,
     "metadata": {},
     "output_type": "execute_result"
    }
   ],
   "source": [
    "xx.reshape(1,6)"
   ]
  },
  {
   "cell_type": "code",
   "execution_count": null,
   "id": "1a70dc10",
   "metadata": {},
   "outputs": [],
   "source": []
  }
 ],
 "metadata": {
  "kernelspec": {
   "display_name": "Python 3 (ipykernel)",
   "language": "python",
   "name": "python3"
  },
  "language_info": {
   "codemirror_mode": {
    "name": "ipython",
    "version": 3
   },
   "file_extension": ".py",
   "mimetype": "text/x-python",
   "name": "python",
   "nbconvert_exporter": "python",
   "pygments_lexer": "ipython3",
   "version": "3.8.11"
  }
 },
 "nbformat": 4,
 "nbformat_minor": 5
}
