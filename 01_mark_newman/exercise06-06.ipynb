{
 "cells": [
  {
   "cell_type": "code",
   "execution_count": 1,
   "metadata": {
    "scrolled": false
   },
   "outputs": [
    {
     "data": {
      "text/html": [
       "<div id=\"glowscript\" class=\"glowscript\"></div>"
      ],
      "text/plain": [
       "<IPython.core.display.HTML object>"
      ]
     },
     "metadata": {},
     "output_type": "display_data"
    },
    {
     "data": {
      "application/javascript": [
       "if (typeof Jupyter !== \"undefined\") { window.__context = { glowscript_container: $(\"#glowscript\").removeAttr(\"id\")};}else{ element.textContent = ' ';}"
      ],
      "text/plain": [
       "<IPython.core.display.Javascript object>"
      ]
     },
     "metadata": {},
     "output_type": "display_data"
    }
   ],
   "source": [
    "from vpython import sphere, rate, vector,rate"
   ]
  },
  {
   "cell_type": "code",
   "execution_count": 2,
   "metadata": {},
   "outputs": [],
   "source": [
    "from math import cos, sin, pi\n",
    "from numpy import arange,empty"
   ]
  },
  {
   "cell_type": "code",
   "execution_count": 3,
   "metadata": {},
   "outputs": [
    {
     "data": {
      "application/javascript": [
       "if (typeof Jupyter !== \"undefined\") {require.undef(\"nbextensions/vpython_libraries/glow.min\");}else{element.textContent = ' ';}"
      ],
      "text/plain": [
       "<IPython.core.display.Javascript object>"
      ]
     },
     "metadata": {},
     "output_type": "display_data"
    },
    {
     "data": {
      "application/javascript": [
       "if (typeof Jupyter !== \"undefined\") {require.undef(\"nbextensions/vpython_libraries/glowcomm\");}else{element.textContent = ' ';}"
      ],
      "text/plain": [
       "<IPython.core.display.Javascript object>"
      ]
     },
     "metadata": {},
     "output_type": "display_data"
    },
    {
     "data": {
      "application/javascript": [
       "if (typeof Jupyter !== \"undefined\") {require.undef(\"nbextensions/vpython_libraries/jquery-ui.custom.min\");}else{element.textContent = ' ';}"
      ],
      "text/plain": [
       "<IPython.core.display.Javascript object>"
      ]
     },
     "metadata": {},
     "output_type": "display_data"
    },
    {
     "data": {
      "application/javascript": [
       "if (typeof Jupyter !== \"undefined\") {require([\"nbextensions/vpython_libraries/glow.min\"], function(){console.log(\"GLOW LOADED\");});}else{element.textContent = ' ';}"
      ],
      "text/plain": [
       "<IPython.core.display.Javascript object>"
      ]
     },
     "metadata": {},
     "output_type": "display_data"
    },
    {
     "data": {
      "application/javascript": [
       "if (typeof Jupyter !== \"undefined\") {require([\"nbextensions/vpython_libraries/glowcomm\"], function(){console.log(\"GLOWCOMM LOADED\");});}else{element.textContent = ' ';}"
      ],
      "text/plain": [
       "<IPython.core.display.Javascript object>"
      ]
     },
     "metadata": {},
     "output_type": "display_data"
    },
    {
     "data": {
      "application/javascript": [
       "if (typeof Jupyter !== \"undefined\") {require([\"nbextensions/vpython_libraries/jquery-ui.custom.min\"], function(){console.log(\"JQUERY LOADED\");});}else{element.textContent = ' ';}"
      ],
      "text/plain": [
       "<IPython.core.display.Javascript object>"
      ]
     },
     "metadata": {},
     "output_type": "display_data"
    }
   ],
   "source": [
    "from numpy import zeros,empty\n",
    "from pylab import plot,show\n",
    "\n",
    "# Constants\n",
    "N = 26\n",
    "C = 1.0\n",
    "m = 1.0\n",
    "k = 6.0\n",
    "omega = 2.0\n",
    "alpha = 2*k-m*omega*omega\n",
    "\n",
    "# Set up the initial values of the arrays\n",
    "A = zeros([N,N],float)\n",
    "for i in range(N-1):\n",
    "    A[i,i] = alpha\n",
    "    A[i,i+1] = -k\n",
    "    A[i+1,i] = -k\n",
    "A[0,0] = alpha - k\n",
    "A[N-1,N-1] = alpha - k\n",
    "\n",
    "v = zeros(N,float)\n",
    "v[0] = C\n",
    "\n",
    "# Perform the Gaussian elimination\n",
    "for i in range(N-1):\n",
    "\n",
    "    # Divide row i by its diagonal element\n",
    "    A[i,i+1] /= A[i,i]\n",
    "    v[i] /= A[i,i]\n",
    "\n",
    "    # Now subtract it from the next row down\n",
    "    A[i+1,i+1] -= A[i+1,i]*A[i,i+1]\n",
    "    v[i+1] -= A[i+1,i]*v[i]\n",
    "\n",
    "# Divide the last element of v by the last diagonal element\n",
    "v[N-1] /= A[N-1,N-1]\n",
    "\n",
    "# Backsubstitution\n",
    "x = empty(N,float)\n",
    "x[N-1] = v[N-1]\n",
    "for i in range(N-2,-1,-1):\n",
    "    x[i] = v[i] - A[i,i+1]*x[i+1]\n",
    "\n",
    "# Make a plot using both dots and lines\n",
    "# plot(x)\n",
    "# plot(x,\"k.\")\n",
    "# show()\n",
    "\n",
    "s = empty(N, sphere)\n",
    "for n in range(N):\n",
    "    s[n] = sphere(radius = 0.2)\n",
    "    \n",
    "for theta in arange(0,10*pi,0.1):\n",
    "    rate(30)\n",
    "    X = x*cos(theta) \n",
    "    for n in range(N):\n",
    "        s[n].pos = vector(0.5*n,X[n],0)   "
   ]
  },
  {
   "cell_type": "code",
   "execution_count": null,
   "metadata": {},
   "outputs": [],
   "source": []
  }
 ],
 "metadata": {
  "kernelspec": {
   "display_name": "Python 3",
   "language": "python",
   "name": "python3"
  },
  "language_info": {
   "codemirror_mode": {
    "name": "ipython",
    "version": 3
   },
   "file_extension": ".py",
   "mimetype": "text/x-python",
   "name": "python",
   "nbconvert_exporter": "python",
   "pygments_lexer": "ipython3",
   "version": "3.7.4"
  }
 },
 "nbformat": 4,
 "nbformat_minor": 2
}
