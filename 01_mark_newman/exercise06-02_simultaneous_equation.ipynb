{
 "cells": [
  {
   "cell_type": "code",
   "execution_count": 2,
   "metadata": {},
   "outputs": [],
   "source": [
    "from numpy import array, empty"
   ]
  },
  {
   "cell_type": "code",
   "execution_count": 98,
   "metadata": {},
   "outputs": [
    {
     "name": "stdout",
     "output_type": "stream",
     "text": [
      "[ 2.35820896 -1.14925373 -0.7761194   0.25373134]\n"
     ]
    }
   ],
   "source": [
    "A = array([[0,1,4,1],\n",
    "           [3,4,-1,-1],\n",
    "           [1,-4,-1,5],\n",
    "           [2,-2,1,3]], float)\n",
    "v = array([-4,3,9,7],float)\n",
    "N = len(v)\n",
    "\n",
    "for m in range(N):\n",
    "    if A[m,m] != 0:\n",
    "        div = A[m,m]\n",
    "        A[m,:] /= div\n",
    "        v[m] /= div\n",
    "    else:\n",
    "        for k in range(m+1,N):\n",
    "            if A[k,m] != 0:\n",
    "                A[m,:],A[k,:] = A[k,:],A[m,:].copy()\n",
    "                v[m],v[k] = v[k],v[m]\n",
    "            break\n",
    "        div = A[m,m]\n",
    "        A[m,:] /= div\n",
    "        v[m] /= div\n",
    "        \n",
    "    for i in range(m+1,N):\n",
    "        mult = A[i,m]\n",
    "        A[i,:] -= mult*A[m,:]\n",
    "        v[i] -= mult*v[m]\n",
    "    \n",
    "x = empty(N, float)\n",
    "for m in range(N-1, -1, -1):  #m 3 -> 2 -> 1 -> 0\n",
    "    x[m] = v[m]\n",
    "    for i in range(m+1, N):   #i m+1 -> m+2 -> ... -> N-1(3)\n",
    "        x[m] -= A[m,i]*x[i]\n",
    "print(x)"
   ]
  },
  {
   "cell_type": "code",
   "execution_count": 3,
   "metadata": {},
   "outputs": [
    {
     "name": "stdout",
     "output_type": "stream",
     "text": [
      "[-2.04  0.08 -1.76  2.92]\n"
     ]
    }
   ],
   "source": [
    "from numpy.linalg import solve\n",
    "\n",
    "A = array([[2,1,0,0],\n",
    "           [3,4,-5,0],\n",
    "           [0,-4,3,5],\n",
    "           [0,0,1,3]], float)\n",
    "v = array([-4,3,9,7],float)\n",
    "x = solve(A,v)\n",
    "print(x)"
   ]
  },
  {
   "cell_type": "code",
   "execution_count": null,
   "metadata": {},
   "outputs": [],
   "source": []
  }
 ],
 "metadata": {
  "kernelspec": {
   "display_name": "Python 3",
   "language": "python",
   "name": "python3"
  },
  "language_info": {
   "codemirror_mode": {
    "name": "ipython",
    "version": 3
   },
   "file_extension": ".py",
   "mimetype": "text/x-python",
   "name": "python",
   "nbconvert_exporter": "python",
   "pygments_lexer": "ipython3",
   "version": "3.7.4"
  }
 },
 "nbformat": 4,
 "nbformat_minor": 2
}
