{
 "cells": [
  {
   "cell_type": "code",
   "execution_count": 1,
   "metadata": {},
   "outputs": [],
   "source": [
    "from numpy import zeros\n",
    "from cmath import exp,pi\n",
    "import numpy as np\n",
    "from math import sin\n",
    "from pylab import plot,xlim,bar\n",
    "import matplotlib.pyplot as plt\n",
    "\n",
    "def dft(y):\n",
    "    N = len(y)\n",
    "    c = zeros(N//2 + 1, complex)\n",
    "    for k in range(N//2 + 1):\n",
    "        for n in range(N):\n",
    "            c[k] += y[n] * exp(-2j*pi*k*n/N)\n",
    "    return c"
   ]
  },
  {
   "cell_type": "code",
   "execution_count": 5,
   "metadata": {},
   "outputs": [
    {
     "data": {
      "text/plain": [
       "<BarContainer object of 501 artists>"
      ]
     },
     "execution_count": 5,
     "metadata": {},
     "output_type": "execute_result"
    },
    {
     "data": {
      "image/png": "[encoded data removed]",
      "text/plain": [
       "<Figure size 432x288 with 1 Axes>"
      ]
     },
     "metadata": {
      "needs_background": "light"
     },
     "output_type": "display_data"
    }
   ],
   "source": [
    "number = 1000\n",
    "data = np.empty(number)\n",
    "\n",
    "for i in range(number):\n",
    "    data[i] = sin(pi*i/number)*sin(20*pi*i/number)\n",
    "\n",
    "xlim(0,50)\n",
    "    \n",
    "#dft(data)の大きさが501のため、range(501)とした。\n",
    "plt.bar(np.array(range(501)),abs(dft(data))) "
   ]
  },
  {
   "cell_type": "code",
   "execution_count": 38,
   "metadata": {},
   "outputs": [
    {
     "data": {
      "text/plain": [
       "1000"
      ]
     },
     "execution_count": 38,
     "metadata": {},
     "output_type": "execute_result"
    }
   ],
   "source": [
    "data.size"
   ]
  }
 ],
 "metadata": {
  "kernelspec": {
   "display_name": "Python 3",
   "language": "python",
   "name": "python3"
  },
  "language_info": {
   "codemirror_mode": {
    "name": "ipython",
    "version": 3
   },
   "file_extension": ".py",
   "mimetype": "text/x-python",
   "name": "python",
   "nbconvert_exporter": "python",
   "pygments_lexer": "ipython3",
   "version": "3.7.4"
  }
 },
 "nbformat": 4,
 "nbformat_minor": 2
}
