{
 "cells": [
  {
   "cell_type": "code",
   "execution_count": 1,
   "metadata": {},
   "outputs": [],
   "source": [
    "from math import exp"
   ]
  },
  {
   "cell_type": "code",
   "execution_count": 12,
   "metadata": {},
   "outputs": [
    {
     "name": "stdout",
     "output_type": "stream",
     "text": [
      "100.00083333194436\n",
      "100.00083333194436\n",
      "100.00083333194436\n",
      "100.00083333194436\n",
      "100.00083333194436\n",
      "100.00083333194436\n",
      "100.00083333194436\n",
      "100.00083333194436\n",
      "230 ms ± 6.23 ms per loop (mean ± std. dev. of 7 runs, 1 loop each)\n"
     ]
    }
   ],
   "source": [
    "%%timeit\n",
    "terms = 1000000\n",
    "beta = 1/100\n",
    "S = 0.0\n",
    "Z = 0.0\n",
    "for n in range(terms):\n",
    "    E = n + 0.5\n",
    "    weight = exp(-beta*E)\n",
    "    S += weight*E\n",
    "    Z += weight\n",
    "print(S/Z)"
   ]
  },
  {
   "cell_type": "code",
   "execution_count": 18,
   "metadata": {},
   "outputs": [
    {
     "name": "stdout",
     "output_type": "stream",
     "text": [
      "CPU times: user 5 µs, sys: 0 ns, total: 5 µs\n",
      "Wall time: 9.3 µs\n",
      "100.00083333194436\n"
     ]
    }
   ],
   "source": [
    "terms = 10000000\n",
    "beta = 1/100\n",
    "S = 0.0\n",
    "Z = 0.0\n",
    "for n in range(terms):\n",
    "    E = n + 0.5\n",
    "    weight = exp(-beta*E)\n",
    "    S += weight*E\n",
    "    Z += weight\n",
    "print(S/Z)"
   ]
  },
  {
   "cell_type": "code",
   "execution_count": null,
   "metadata": {},
   "outputs": [],
   "source": []
  }
 ],
 "metadata": {
  "kernelspec": {
   "display_name": "Python 3",
   "language": "python",
   "name": "python3"
  },
  "language_info": {
   "codemirror_mode": {
    "name": "ipython",
    "version": 3
   },
   "file_extension": ".py",
   "mimetype": "text/x-python",
   "name": "python",
   "nbconvert_exporter": "python",
   "pygments_lexer": "ipython3",
   "version": "3.7.4"
  }
 },
 "nbformat": 4,
 "nbformat_minor": 2
}
