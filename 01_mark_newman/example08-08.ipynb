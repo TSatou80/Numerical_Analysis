{
 "cells": [
  {
   "cell_type": "code",
   "execution_count": 1,
   "metadata": {},
   "outputs": [],
   "source": [
    "from math import sin, cos\n",
    "from numpy import array,arange, pi\n",
    "from pylab import plot, xlabel, show,grid"
   ]
  },
  {
   "cell_type": "code",
   "execution_count": 2,
   "metadata": {},
   "outputs": [],
   "source": [
    "a = 0.0\n",
    "b = 10.0 #final time\n",
    "N = 1000\n",
    "h = (b-a)/N\n",
    "target = 1e-10\n",
    "g = 9.81"
   ]
  },
  {
   "cell_type": "code",
   "execution_count": 3,
   "metadata": {},
   "outputs": [],
   "source": [
    "def f(r):\n",
    "    y = r[0]\n",
    "    vy = r[1]\n",
    "    fy = vy\n",
    "    fvy = -g\n",
    "    return array([fy, fvy],float)"
   ]
  },
  {
   "cell_type": "code",
   "execution_count": 4,
   "metadata": {},
   "outputs": [],
   "source": [
    "# Runge-Kutta method\n",
    "def height(v):\n",
    "    r = array([0.0, v], float)\n",
    "    for t in arange(a,b,h):\n",
    "        k1 = h*f(r)\n",
    "        k2 = h*f(r+0.5*k1)\n",
    "        k3 = h*f(r+0.5*k2)\n",
    "        k4 = h*f(r+k3)\n",
    "        r += (k1 + 2*k2 + 2*k3 + k4)/6\n",
    "    return r[0]\n",
    "    "
   ]
  },
  {
   "cell_type": "code",
   "execution_count": 8,
   "metadata": {},
   "outputs": [
    {
     "name": "stdout",
     "output_type": "stream",
     "text": [
      "height(v1)= -5.627787125206396e-11\n",
      "height(v2)= 1.477640232394606e-11\n",
      "v= 49.04999999999815 m/s\n"
     ]
    }
   ],
   "source": [
    "# Binary search\n",
    "v1 = 0.01\n",
    "v2 = 1000.0\n",
    "h1 = height(v1)\n",
    "h2 = height(v2)\n",
    "\n",
    "while abs(h2 - h1) > target:\n",
    "    vp = (v1 + v2)/2\n",
    "    hp = height(vp)\n",
    "    if h1*hp > 0:\n",
    "        v1 = vp\n",
    "        h1 = hp\n",
    "    else:\n",
    "        v2 = vp\n",
    "        h2 = hp\n",
    "v = (v1 + v2)/2\n",
    "print(\"height(v1)=\", h1)\n",
    "print(\"height(v2)=\", h2)\n",
    "print(\"v=\", v, \"m/s\")"
   ]
  },
  {
   "cell_type": "code",
   "execution_count": 6,
   "metadata": {},
   "outputs": [
    {
     "data": {
      "text/plain": [
       "-490.40000000000384"
      ]
     },
     "execution_count": 6,
     "metadata": {},
     "output_type": "execute_result"
    }
   ],
   "source": [
    "height(0.01)"
   ]
  },
  {
   "cell_type": "code",
   "execution_count": 15,
   "metadata": {},
   "outputs": [
    {
     "data": {
      "text/plain": [
       "[<matplotlib.lines.Line2D at 0x7f5d6fe8c760>]"
      ]
     },
     "execution_count": 15,
     "metadata": {},
     "output_type": "execute_result"
    },
    {
     "data": {
      "image/png": "[encoded data removed]",
      "text/plain": [
       "<Figure size 432x288 with 1 Axes>"
      ]
     },
     "metadata": {
      "needs_background": "light"
     },
     "output_type": "display_data"
    }
   ],
   "source": [
    "tpoints = arange(a,b,h)\n",
    "xpoints = []\n",
    "\n",
    "r = array([0.0, v], float)\n",
    "for t in arange(a,b,h):\n",
    "    k1 = h*f(r)\n",
    "    k2 = h*f(r+0.5*k1)\n",
    "    k3 = h*f(r+0.5*k2)\n",
    "    k4 = h*f(r+k3)\n",
    "    r += (k1 + 2*k2 + 2*k3 + k4)/6\n",
    "    xpoints.append(r[0])\n",
    "\n",
    "plot(tpoints, xpoints)\n"
   ]
  },
  {
   "cell_type": "code",
   "execution_count": null,
   "metadata": {},
   "outputs": [],
   "source": []
  }
 ],
 "metadata": {
  "kernelspec": {
   "display_name": "Python 3 (ipykernel)",
   "language": "python",
   "name": "python3"
  },
  "language_info": {
   "codemirror_mode": {
    "name": "ipython",
    "version": 3
   },
   "file_extension": ".py",
   "mimetype": "text/x-python",
   "name": "python",
   "nbconvert_exporter": "python",
   "pygments_lexer": "ipython3",
   "version": "3.8.11"
  }
 },
 "nbformat": 4,
 "nbformat_minor": 2
}
